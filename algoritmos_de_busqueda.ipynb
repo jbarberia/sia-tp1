{
 "cells": [
  {
   "cell_type": "code",
   "execution_count": 2,
   "metadata": {},
   "outputs": [],
   "source": [
    "from src.sokoban import Sokoban\n",
    "from src.tree import recorre_arbol\n",
    "\n",
    "class Config:\n",
    "    def __init__(self):    \n",
    "        self.algoritmo = \"dfs\"\n",
    "        self.heuristicas = [\"manhattan\", \"distancia_a_caja\"]\n",
    "        self.verbose = False\n",
    "        self.mapa = \"\"\"\n",
    "        \"\"\"\n",
    "        \n",
    "config = Config()"
   ]
  },
  {
   "cell_type": "markdown",
   "metadata": {},
   "source": [
    "# Ejemplo 1\n",
    "\n",
    "Para este primer ejemplo se comparan todos los algoritmos para ver sus diferencias."
   ]
  },
  {
   "cell_type": "code",
   "execution_count": 3,
   "metadata": {},
   "outputs": [
    {
     "name": "stdout",
     "output_type": "stream",
     "text": [
      "bfs\n",
      "\ttiempo total:\t\t0.01967\n",
      "\tnodos recorridos:\t36\n",
      "\tmovimientos:\t\t4\n",
      "\n",
      "dfs\n",
      "\ttiempo total:\t\t1.23707\n",
      "\tnodos recorridos:\t564\n",
      "\tmovimientos:\t\t174\n",
      "\n",
      "greedy\n",
      "\ttiempo total:\t\t0.00125\n",
      "\tnodos recorridos:\t5\n",
      "\tmovimientos:\t\t4\n",
      "\n",
      "a_star\n",
      "\ttiempo total:\t\t0.00286\n",
      "\tnodos recorridos:\t7\n",
      "\tmovimientos:\t\t4\n",
      "\n"
     ]
    }
   ],
   "source": [
    "config.mapa = \"\"\"\n",
    "#######\n",
    "#@$  .#\n",
    "#   $ #\n",
    "#   . #\n",
    "#     #\n",
    "#######\n",
    "\"\"\"\n",
    "\n",
    "global_results = {}\n",
    "for algoritmo in [\"bfs\", \"dfs\", \"greedy\", \"a_star\"]:\n",
    "    config.algoritmo = algoritmo\n",
    "    sokoban = Sokoban()\n",
    "    sokoban.parse_grid(config.mapa)\n",
    "    results = recorre_arbol(sokoban, config)\n",
    "\n",
    "    print(algoritmo)\n",
    "    print(\"\\ttiempo total:\\t\\t{:.5f}\".format(results[\"tiempo\"]))\n",
    "    print(\"\\tnodos recorridos:\\t{}\".format(len(results[\"nodos_explorados\"])))\n",
    "    print(\"\\tmovimientos:\\t\\t{}\".format(len(results[\"movimientos\"])))\n",
    "    print()\n",
    "\n",
    "    global_results[algoritmo] = results"
   ]
  },
  {
   "cell_type": "markdown",
   "metadata": {},
   "source": [
    "El algritmo BFS nos indica el optimo global del problema, que tambien es alcanzado por la solución greedy y a_star.\n",
    "Cabe notar que estos dos ultimos recorren una menor cantidad de nodos.\n",
    "El algoritmo DFS explora una gran cantidad de nodos, sin embargo la solución hallada no es optima."
   ]
  },
  {
   "cell_type": "markdown",
   "metadata": {},
   "source": [
    "# Ejemplo 2\n",
    "\n",
    "El DFS es el algoritmo mas rapido, sin embargo su solución no es optima.\n",
    "Con la ayuda de la heuristica, el algoritmo greedy presenta el mejor balance en tiempos vs cantidad de moviientos.\n",
    "El algoritmo a_star explora una mayor cantidad de nodos que el resto."
   ]
  },
  {
   "cell_type": "code",
   "execution_count": 4,
   "metadata": {},
   "outputs": [
    {
     "name": "stdout",
     "output_type": "stream",
     "text": [
      "bfs\n",
      "\ttiempo total:\t\t13.31105\n",
      "\tnodos recorridos:\t2078\n",
      "\tmovimientos:\t\t23\n",
      "\n",
      "dfs\n",
      "\ttiempo total:\t\t2.56548\n",
      "\tnodos recorridos:\t886\n",
      "\tmovimientos:\t\t257\n",
      "\n",
      "greedy\n",
      "\ttiempo total:\t\t3.97956\n",
      "\tnodos recorridos:\t876\n",
      "\tmovimientos:\t\t31\n",
      "\n",
      "a_star\n",
      "\ttiempo total:\t\t19.37108\n",
      "\tnodos recorridos:\t1618\n",
      "\tmovimientos:\t\t23\n",
      "\n"
     ]
    }
   ],
   "source": [
    "config.mapa = \"\"\"\n",
    "########\n",
    "#      #\n",
    "# .**$@#\n",
    "#      #\n",
    "#####  #\n",
    "    ####\n",
    "\"\"\"\n",
    "config.heuristicas = [\"manhattan\"]\n",
    "\n",
    "\n",
    "global_results = {}\n",
    "for algoritmo in [\"bfs\", \"dfs\", \"greedy\", \"a_star\"]:\n",
    "    config.algoritmo = algoritmo\n",
    "    sokoban = Sokoban()\n",
    "    sokoban.parse_grid(config.mapa)\n",
    "    results = recorre_arbol(sokoban, config)\n",
    "\n",
    "    print(algoritmo)\n",
    "    print(\"\\ttiempo total:\\t\\t{:.5f}\".format(results[\"tiempo\"]))\n",
    "    print(\"\\tnodos recorridos:\\t{}\".format(len(results[\"nodos_explorados\"])))\n",
    "    print(\"\\tmovimientos:\\t\\t{}\".format(len(results[\"movimientos\"])))\n",
    "    print()\n",
    "\n",
    "    global_results[algoritmo] = results"
   ]
  },
  {
   "cell_type": "markdown",
   "metadata": {},
   "source": [
    "Puede observarse que la heuristica que toma la distancia manhatan nunca sobreestima el costo de la solución."
   ]
  },
  {
   "cell_type": "code",
   "execution_count": 5,
   "metadata": {},
   "outputs": [
    {
     "name": "stdout",
     "output_type": "stream",
     "text": [
      "La solución optima lleva 23 pasos\n",
      "La máxima estimación de la heuritica fue 22 pasos\n"
     ]
    }
   ],
   "source": [
    "a_star = global_results[\"a_star\"]\n",
    "costo_estimado = []\n",
    "for n in a_star[\"nodos_explorados\"]:\n",
    "    costo_estimado.append(n.get_actual_cost())\n",
    "\n",
    "print(\"La solución optima lleva {} pasos\".format(len(global_results[\"bfs\"][\"movimientos\"])))\n",
    "print(\"La máxima estimación de la heuritica fue {} pasos\".format(max(costo_estimado)))"
   ]
  },
  {
   "cell_type": "markdown",
   "metadata": {},
   "source": [
    "# Ejemplo 3\n",
    "Para este ejemplo se varía las heurisiticas utilizadas en conjunto con el algoritmo a_star.\n",
    "\n"
   ]
  },
  {
   "cell_type": "code",
   "execution_count": 13,
   "metadata": {},
   "outputs": [
    {
     "name": "stdout",
     "output_type": "stream",
     "text": [
      "manhattan\n",
      "\n",
      "\ttiempo total:\t\t\t19.49736\n",
      "\tnodos recorridos:\t\t1618\n",
      "\tmovimientos:\t\t\t23\n",
      "\tmax estimación de costo:\t24\n",
      "\n",
      "distancia_a_caja\n",
      "\n",
      "\ttiempo total:\t\t\t9.29578\n",
      "\tnodos recorridos:\t\t1323\n",
      "\tmovimientos:\t\t\t23\n",
      "\tmax estimación de costo:\t24\n",
      "\n",
      "manhattan + distancia_a_caja\n",
      "\n",
      "\ttiempo total:\t\t\t21.04878\n",
      "\tnodos recorridos:\t\t1400\n",
      "\tmovimientos:\t\t\t23\n",
      "\tmax estimación de costo:\t24\n",
      "\n"
     ]
    }
   ],
   "source": [
    "\n",
    "config = Config()\n",
    "config.mapa = \"\"\"\n",
    "########\n",
    "#      #\n",
    "# .**$@#\n",
    "#      #\n",
    "#####  #\n",
    "    ####\n",
    "\"\"\"\n",
    "config.heuristicas = []\n",
    "config.algoritmo = \"a_star\"\n",
    "\n",
    "\n",
    "for heuristicas in [[\"manhattan\"], [\"distancia_a_caja\"], [\"manhattan\", \"distancia_a_caja\"]]:\n",
    "    config.heuristicas = heuristicas\n",
    "    sokoban = Sokoban()\n",
    "    sokoban.parse_grid(config.mapa)\n",
    "    results = recorre_arbol(sokoban, config)\n",
    "\n",
    "    print(*heuristicas, sep=\" + \")\n",
    "    print()\n",
    "    print(\"\\ttiempo total:\\t\\t\\t{:.5f}\".format(results[\"tiempo\"]))\n",
    "    print(\"\\tnodos recorridos:\\t\\t{}\".format(len(results[\"nodos_explorados\"])))\n",
    "    print(\"\\tmovimientos:\\t\\t\\t{}\".format(len(results[\"movimientos\"])))\n",
    "    for n in results[\"nodos_explorados\"]:\n",
    "        costo_estimado.append(n.get_actual_cost())\n",
    "    print(\"\\tmax estimación de costo:\\t{}\".format(max(costo_estimado)))\n",
    "    print()"
   ]
  },
  {
   "cell_type": "markdown",
   "metadata": {},
   "source": [
    "Puede observarse que la heuristica distancia a la caja permite recorrer menor cantidad de de nodos para alcanzar la solución.\n",
    "Ademas es computacionalmente más rápida que la heurisitica manhattan.\n",
    "\n",
    "Por este motivo se repite el primer ejemplo con la heuristica distancia a la caja"
   ]
  },
  {
   "cell_type": "code",
   "execution_count": 17,
   "metadata": {},
   "outputs": [
    {
     "name": "stdout",
     "output_type": "stream",
     "text": [
      "bfs\n",
      "\ttiempo total:\t\t13.73614\n",
      "\tnodos recorridos:\t2078\n",
      "\tmovimientos:\t\t23\n",
      "\n",
      "dfs\n",
      "\ttiempo total:\t\t2.66622\n",
      "\tnodos recorridos:\t886\n",
      "\tmovimientos:\t\t257\n",
      "\n",
      "greedy\n",
      "\ttiempo total:\t\t8.23718\n",
      "\tnodos recorridos:\t1290\n",
      "\tmovimientos:\t\t35\n",
      "\n",
      "a_star\n",
      "\ttiempo total:\t\t9.64381\n",
      "\tnodos recorridos:\t1323\n",
      "\tmovimientos:\t\t23\n",
      "\n"
     ]
    }
   ],
   "source": [
    "config.mapa = \"\"\"\n",
    "########\n",
    "#      #\n",
    "# .**$@#\n",
    "#      #\n",
    "#####  #\n",
    "    ####\n",
    "\"\"\"\n",
    "config.heuristicas = [\"distancia_a_caja\"]\n",
    "\n",
    "\n",
    "global_results = {}\n",
    "for algoritmo in [\"bfs\", \"dfs\", \"greedy\", \"a_star\"]:\n",
    "    config.algoritmo = algoritmo\n",
    "    sokoban = Sokoban()\n",
    "    sokoban.parse_grid(config.mapa)\n",
    "    results = recorre_arbol(sokoban, config)\n",
    "\n",
    "    print(algoritmo)\n",
    "    print(\"\\ttiempo total:\\t\\t{:.5f}\".format(results[\"tiempo\"]))\n",
    "    print(\"\\tnodos recorridos:\\t{}\".format(len(results[\"nodos_explorados\"])))\n",
    "    print(\"\\tmovimientos:\\t\\t{}\".format(len(results[\"movimientos\"])))\n",
    "    print()\n",
    "\n",
    "    global_results[algoritmo] = results"
   ]
  },
  {
   "cell_type": "markdown",
   "metadata": {},
   "source": [
    "Un resultado interesante es que el algoritmo greedy sigue siendo mejor que a_star. Pero ahora es peor que con la heuristica manhattan.\n"
   ]
  }
 ],
 "metadata": {
  "kernelspec": {
   "display_name": "Python 3",
   "language": "python",
   "name": "python3"
  },
  "language_info": {
   "codemirror_mode": {
    "name": "ipython",
    "version": 3
   },
   "file_extension": ".py",
   "mimetype": "text/x-python",
   "name": "python",
   "nbconvert_exporter": "python",
   "pygments_lexer": "ipython3",
   "version": "3.12.3"
  }
 },
 "nbformat": 4,
 "nbformat_minor": 2
}
