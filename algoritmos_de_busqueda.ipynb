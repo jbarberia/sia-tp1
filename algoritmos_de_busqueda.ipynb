{
 "cells": [
  {
   "cell_type": "code",
   "execution_count": null,
   "metadata": {},
   "outputs": [],
   "source": [
    "from src.sokoban import Sokoban\n",
    "from src.tree import recorre_arbol\n",
    "\n",
    "class Config:\n",
    "    def __init__(self):    \n",
    "        self.algoritmo = \"dfs\"\n",
    "        self.heuristicas = [\"manhattan\"]\n",
    "        self.verbose = False\n",
    "        self.mapa = \"\"\"\n",
    "        \"\"\"\n",
    "        \n",
    "config = Config()"
   ]
  },
  {
   "cell_type": "markdown",
   "metadata": {},
   "source": [
    "# Ejemplo simple"
   ]
  },
  {
   "cell_type": "code",
   "execution_count": 6,
   "metadata": {},
   "outputs": [
    {
     "name": "stdout",
     "output_type": "stream",
     "text": [
      "bfs\n",
      "\ttiempo total:\t\t0.01011\n",
      "\tnodos recorridos:\t36\n",
      "\tmovimientos:\t\t4\n",
      "\n",
      "dfs\n",
      "\ttiempo total:\t\t0.90615\n",
      "\tnodos recorridos:\t564\n",
      "\tmovimientos:\t\t174\n",
      "\n",
      "greedy\n",
      "\ttiempo total:\t\t0.00076\n",
      "\tnodos recorridos:\t4\n",
      "\tmovimientos:\t\t4\n",
      "\n",
      "a_star\n",
      "\ttiempo total:\t\t0.00054\n",
      "\tnodos recorridos:\t4\n",
      "\tmovimientos:\t\t4\n",
      "\n"
     ]
    }
   ],
   "source": [
    "config.mapa = \"\"\"\n",
    "#######\n",
    "#@$  .#\n",
    "#   $ #\n",
    "#   . #\n",
    "#     #\n",
    "#######\n",
    "\"\"\"\n",
    "\n",
    "global_results = {}\n",
    "for algoritmo in [\"bfs\", \"dfs\", \"greedy\", \"a_star\"]:\n",
    "    config.algoritmo = algoritmo\n",
    "    sokoban = Sokoban()\n",
    "    sokoban.parse_grid(config.mapa)\n",
    "    results = recorre_arbol(sokoban, config)\n",
    "\n",
    "    print(algoritmo)\n",
    "    print(\"\\ttiempo total:\\t\\t{:.5f}\".format(results[\"tiempo\"]))\n",
    "    print(\"\\tnodos recorridos:\\t{}\".format(len(results[\"nodos_explorados\"])))\n",
    "    print(\"\\tmovimientos:\\t\\t{}\".format(len(results[\"movimientos\"])))\n",
    "    print()\n",
    "\n",
    "    global_results[algoritmo] = results"
   ]
  },
  {
   "cell_type": "markdown",
   "metadata": {},
   "source": [
    "# Ejemplo medio\n",
    "\n",
    "El DFS es el algoritmo mas rapido, sin embargo su solución no es optima.\n",
    "Con la ayuda de la heuristica, el algoritmo greedy presenta el mejor balance en tiempos vs cantidad de moviientos.\n",
    "El algoritmo a_star explora una mayor cantidad de nodos que el resto."
   ]
  },
  {
   "cell_type": "code",
   "execution_count": 17,
   "metadata": {},
   "outputs": [
    {
     "name": "stdout",
     "output_type": "stream",
     "text": [
      "bfs\n",
      "\ttiempo total:\t\t10.09372\n",
      "\tnodos recorridos:\t2078\n",
      "\tmovimientos:\t\t23\n",
      "\n",
      "dfs\n",
      "\ttiempo total:\t\t2.00843\n",
      "\tnodos recorridos:\t886\n",
      "\tmovimientos:\t\t257\n",
      "\n",
      "greedy\n",
      "\ttiempo total:\t\t3.23731\n",
      "\tnodos recorridos:\t876\n",
      "\tmovimientos:\t\t31\n",
      "\n",
      "a_star\n",
      "\ttiempo total:\t\t16.08876\n",
      "\tnodos recorridos:\t1987\n",
      "\tmovimientos:\t\t23\n",
      "\n"
     ]
    }
   ],
   "source": [
    "config.mapa = \"\"\"\n",
    "########\n",
    "#      #\n",
    "# .**$@#\n",
    "#      #\n",
    "#####  #\n",
    "    ####\n",
    "\"\"\"\n",
    "config.heuristicas = [\"manhattan\"]\n",
    "\n",
    "\n",
    "global_results = {}\n",
    "for algoritmo in [\"bfs\", \"dfs\", \"greedy\", \"a_star\"]:\n",
    "    config.algoritmo = algoritmo\n",
    "    sokoban = Sokoban()\n",
    "    sokoban.parse_grid(config.mapa)\n",
    "    results = recorre_arbol(sokoban, config)\n",
    "\n",
    "    print(algoritmo)\n",
    "    print(\"\\ttiempo total:\\t\\t{:.5f}\".format(results[\"tiempo\"]))\n",
    "    print(\"\\tnodos recorridos:\\t{}\".format(len(results[\"nodos_explorados\"])))\n",
    "    print(\"\\tmovimientos:\\t\\t{}\".format(len(results[\"movimientos\"])))\n",
    "    print()\n",
    "\n",
    "    global_results[algoritmo] = results"
   ]
  },
  {
   "cell_type": "markdown",
   "metadata": {},
   "source": [
    "Puede observarse que la heuristica que toma la distancia manhatan nunca sobreestima el costo de la solución."
   ]
  },
  {
   "cell_type": "code",
   "execution_count": null,
   "metadata": {},
   "outputs": [
    {
     "name": "stdout",
     "output_type": "stream",
     "text": [
      "La solución optima lleva 23 pasos\n",
      "La máxima estimación de la heuritica fue 22 pasos\n"
     ]
    }
   ],
   "source": [
    "a_star = global_results[\"a_star\"]\n",
    "costo_estimado = []\n",
    "for n in a_star[\"nodos_explorados\"]:\n",
    "    costo_estimado.append(n.get_actual_cost())\n",
    "\n",
    "print(\"La solución optima lleva {} pasos\".format(len(global_results[\"bfs\"][\"movimientos\"])))\n",
    "print(\"La máxima estimación de la heuritica fue {} pasos\".format(max(costo_estimado)))"
   ]
  },
  {
   "cell_type": "markdown",
   "metadata": {},
   "source": [
    "# Ejemplo dificil"
   ]
  },
  {
   "cell_type": "code",
   "execution_count": null,
   "metadata": {},
   "outputs": [],
   "source": [
    "config.mapa = \"\"\"\n",
    "#########\n",
    "#.@ #   #\n",
    "##** * .#\n",
    "#  * $$ #\n",
    "#  $$.. #\n",
    "#   #   #\n",
    "#########\n",
    "\"\"\"\n",
    "\n",
    "config.heuristicas = [\"manhattan\"]\n",
    "\n",
    "global_results = {}\n",
    "for algoritmo in [\"dfs\", \"greedy\", \"a_star\"]:\n",
    "    config.algoritmo = algoritmo\n",
    "    sokoban = Sokoban()\n",
    "    sokoban.parse_grid(config.mapa)\n",
    "    results = recorre_arbol(sokoban, config)\n",
    "\n",
    "    print(algoritmo)\n",
    "    print(\"\\ttiempo total:\\t\\t{:.5f}\".format(results[\"tiempo\"]))\n",
    "    print(\"\\tnodos recorridos:\\t{}\".format(len(results[\"nodos_explorados\"])))\n",
    "    print(\"\\tmovimientos:\\t\\t{}\".format(len(results[\"movimientos\"])))\n",
    "    print()\n",
    "\n",
    "    global_results[algoritmo] = results"
   ]
  }
 ],
 "metadata": {
  "kernelspec": {
   "display_name": "Python 3",
   "language": "python",
   "name": "python3"
  },
  "language_info": {
   "codemirror_mode": {
    "name": "ipython",
    "version": 3
   },
   "file_extension": ".py",
   "mimetype": "text/x-python",
   "name": "python",
   "nbconvert_exporter": "python",
   "pygments_lexer": "ipython3",
   "version": "3.12.3"
  }
 },
 "nbformat": 4,
 "nbformat_minor": 2
}
