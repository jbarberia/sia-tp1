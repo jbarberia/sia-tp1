{
 "cells": [
  {
   "cell_type": "code",
   "execution_count": 3,
   "metadata": {},
   "outputs": [],
   "source": [
    "from src.sokoban import Sokoban\n",
    "from src.tree import recorre_arbol\n",
    "\n",
    "class Config:\n",
    "    def __init__(self):    \n",
    "        self.algoritmo = \"dfs\"\n",
    "        self.heuristicas = [\"manhattan\", \"distancia_a_caja\"]\n",
    "        self.verbose = False\n",
    "        self.mapa = \"\"\"\n",
    "        \"\"\"\n",
    "        \n",
    "config = Config()"
   ]
  },
  {
   "cell_type": "markdown",
   "metadata": {},
   "source": [
    "# Ejemplo 1\n",
    "\n",
    "Para este primer ejemplo se comparan todos los algoritmos para ver sus diferencias."
   ]
  },
  {
   "cell_type": "code",
   "execution_count": 4,
   "metadata": {},
   "outputs": [
    {
     "name": "stdout",
     "output_type": "stream",
     "text": [
      "bfs\n",
      "\ttiempo total:\t\t0.01377\n",
      "\tnodos recorridos:\t36\n",
      "\tmovimientos:\t\t4\n",
      "\n",
      "dfs\n",
      "\ttiempo total:\t\t1.20016\n",
      "\tnodos recorridos:\t564\n",
      "\tmovimientos:\t\t174\n",
      "\n",
      "greedy\n",
      "\ttiempo total:\t\t0.01238\n",
      "\tnodos recorridos:\t4\n",
      "\tmovimientos:\t\t4\n",
      "\n",
      "a_star\n",
      "\ttiempo total:\t\t0.00141\n",
      "\tnodos recorridos:\t4\n",
      "\tmovimientos:\t\t4\n",
      "\n"
     ]
    }
   ],
   "source": [
    "config.mapa = \"\"\"\n",
    "#######\n",
    "#@$  .#\n",
    "#   $ #\n",
    "#   . #\n",
    "#     #\n",
    "#######\n",
    "\"\"\"\n",
    "\n",
    "global_results = {}\n",
    "for algoritmo in [\"bfs\", \"dfs\", \"greedy\", \"a_star\"]:\n",
    "    config.algoritmo = algoritmo\n",
    "    sokoban = Sokoban()\n",
    "    sokoban.parse_grid(config.mapa)\n",
    "    results = recorre_arbol(sokoban, config)\n",
    "\n",
    "    print(algoritmo)\n",
    "    print(\"\\ttiempo total:\\t\\t{:.5f}\".format(results[\"tiempo\"]))\n",
    "    print(\"\\tnodos recorridos:\\t{}\".format(len(results[\"nodos_explorados\"])))\n",
    "    print(\"\\tmovimientos:\\t\\t{}\".format(len(results[\"movimientos\"])))\n",
    "    print()\n",
    "\n",
    "    global_results[algoritmo] = results"
   ]
  },
  {
   "cell_type": "markdown",
   "metadata": {},
   "source": [
    "El algritmo BFS nos indica el optimo global del problema, que tambien es alcanzado por la solución greedy y a_star.\n",
    "Cabe notar que estos dos ultimos recorren una menor cantidad de nodos.\n",
    "El algoritmo DFS explora una gran cantidad de nodos, sin embargo la solución hallada no es optima."
   ]
  },
  {
   "cell_type": "markdown",
   "metadata": {},
   "source": [
    "# Ejemplo 2\n",
    "\n",
    "El DFS es el algoritmo mas rapido, sin embargo su solución no es optima.\n",
    "Con la ayuda de la heuristica, el algoritmo greedy presenta el mejor balance en tiempos vs cantidad de moviientos.\n",
    "El algoritmo a_star explora una mayor cantidad de nodos que el resto."
   ]
  },
  {
   "cell_type": "code",
   "execution_count": 5,
   "metadata": {},
   "outputs": [
    {
     "name": "stdout",
     "output_type": "stream",
     "text": [
      "bfs\n",
      "\ttiempo total:\t\t14.39785\n",
      "\tnodos recorridos:\t2078\n",
      "\tmovimientos:\t\t23\n",
      "\n",
      "dfs\n",
      "\ttiempo total:\t\t2.34342\n",
      "\tnodos recorridos:\t886\n",
      "\tmovimientos:\t\t257\n",
      "\n",
      "greedy\n",
      "\ttiempo total:\t\t3.96096\n",
      "\tnodos recorridos:\t876\n",
      "\tmovimientos:\t\t31\n",
      "\n",
      "a_star\n",
      "\ttiempo total:\t\t20.58746\n",
      "\tnodos recorridos:\t1618\n",
      "\tmovimientos:\t\t23\n",
      "\n"
     ]
    }
   ],
   "source": [
    "config.mapa = \"\"\"\n",
    "########\n",
    "#      #\n",
    "# .**$@#\n",
    "#      #\n",
    "#####  #\n",
    "    ####\n",
    "\"\"\"\n",
    "config.heuristicas = [\"manhattan\"]\n",
    "\n",
    "\n",
    "global_results = {}\n",
    "for algoritmo in [\"bfs\", \"dfs\", \"greedy\", \"a_star\"]:\n",
    "    config.algoritmo = algoritmo\n",
    "    sokoban = Sokoban()\n",
    "    sokoban.parse_grid(config.mapa)\n",
    "    results = recorre_arbol(sokoban, config)\n",
    "\n",
    "    print(algoritmo)\n",
    "    print(\"\\ttiempo total:\\t\\t{:.5f}\".format(results[\"tiempo\"]))\n",
    "    print(\"\\tnodos recorridos:\\t{}\".format(len(results[\"nodos_explorados\"])))\n",
    "    print(\"\\tmovimientos:\\t\\t{}\".format(len(results[\"movimientos\"])))\n",
    "    print()\n",
    "\n",
    "    global_results[algoritmo] = results"
   ]
  },
  {
   "cell_type": "markdown",
   "metadata": {},
   "source": [
    "Puede observarse que la heuristica que toma la distancia manhatan nunca sobreestima el costo de la solución."
   ]
  },
  {
   "cell_type": "code",
   "execution_count": 6,
   "metadata": {},
   "outputs": [
    {
     "name": "stdout",
     "output_type": "stream",
     "text": [
      "La solución optima lleva 23 pasos\n",
      "La máxima estimación de la heuritica fue 22 pasos\n"
     ]
    }
   ],
   "source": [
    "a_star = global_results[\"a_star\"]\n",
    "costo_estimado = []\n",
    "for n in a_star[\"nodos_explorados\"]:\n",
    "    costo_estimado.append(n.get_actual_cost())\n",
    "\n",
    "print(\"La solución optima lleva {} pasos\".format(len(global_results[\"bfs\"][\"movimientos\"])))\n",
    "print(\"La máxima estimación de la heuritica fue {} pasos\".format(max(costo_estimado)))"
   ]
  },
  {
   "cell_type": "markdown",
   "metadata": {},
   "source": [
    "# Ejemplo 3\n",
    "Para este ejemplo se varía las heurisiticas utilizadas en conjunto con el algoritmo a_star.\n",
    "\n"
   ]
  },
  {
   "cell_type": "code",
   "execution_count": 35,
   "metadata": {},
   "outputs": [
    {
     "name": "stdout",
     "output_type": "stream",
     "text": [
      "manhattan\n",
      "\n",
      "\ttiempo total:\t\t\t19.69030\n",
      "\tnodos recorridos:\t\t1618\n",
      "\tmovimientos:\t\t\t23\n",
      "\tmax estimación de costo:\t22\n",
      "\n",
      "distancia_a_caja\n",
      "\n",
      "\ttiempo total:\t\t\t9.72989\n",
      "\tnodos recorridos:\t\t1366\n",
      "\tmovimientos:\t\t\t23\n",
      "\tmax estimación de costo:\t22\n",
      "\n",
      "manhattan + distancia_a_caja\n",
      "\n",
      "\ttiempo total:\t\t\t26.65114\n",
      "\tnodos recorridos:\t\t1640\n",
      "\tmovimientos:\t\t\t23\n",
      "\tmax estimación de costo:\t23\n",
      "\n"
     ]
    }
   ],
   "source": [
    "\n",
    "config = Config()\n",
    "config.mapa = \"\"\"\n",
    "########\n",
    "#      #\n",
    "# .**$@#\n",
    "#      #\n",
    "#####  #\n",
    "    ####\n",
    "\"\"\"\n",
    "config.heuristicas = []\n",
    "config.algoritmo = \"a_star\"\n",
    "\n",
    "\n",
    "for heuristicas in [[\"manhattan\"], [\"distancia_a_caja\"], [\"manhattan\", \"distancia_a_caja\"]]:\n",
    "    config.heuristicas = heuristicas\n",
    "    sokoban = Sokoban()\n",
    "    sokoban.parse_grid(config.mapa)\n",
    "    results = recorre_arbol(sokoban, config)\n",
    "\n",
    "    print(*heuristicas, sep=\" + \")\n",
    "    print()\n",
    "    print(\"\\ttiempo total:\\t\\t\\t{:.5f}\".format(results[\"tiempo\"]))\n",
    "    print(\"\\tnodos recorridos:\\t\\t{}\".format(len(results[\"nodos_explorados\"])))\n",
    "    print(\"\\tmovimientos:\\t\\t\\t{}\".format(len(results[\"movimientos\"])))\n",
    "    costo_estimado = []\n",
    "    for n in results[\"nodos_explorados\"]:\n",
    "        costo_estimado.append(n.get_actual_cost())\n",
    "    print(\"\\tmax estimación de costo:\\t{}\".format(max(costo_estimado)))\n",
    "    print()"
   ]
  },
  {
   "cell_type": "markdown",
   "metadata": {},
   "source": [
    "Puede observarse que la heuristica distancia a la caja permite recorrer menor cantidad de de nodos para alcanzar la solución.\n",
    "Ademas es computacionalmente más rápida que la heurisitica manhattan.\n",
    "\n",
    "Por este motivo se repite el primer ejemplo con la heuristica distancia a la caja"
   ]
  },
  {
   "cell_type": "code",
   "execution_count": 8,
   "metadata": {},
   "outputs": [
    {
     "name": "stdout",
     "output_type": "stream",
     "text": [
      "bfs\n",
      "\ttiempo total:\t\t14.46956\n",
      "\tnodos recorridos:\t2078\n",
      "\tmovimientos:\t\t23\n",
      "\n",
      "dfs\n",
      "\ttiempo total:\t\t2.38968\n",
      "\tnodos recorridos:\t886\n",
      "\tmovimientos:\t\t257\n",
      "\n",
      "greedy\n",
      "\ttiempo total:\t\t3.78136\n",
      "\tnodos recorridos:\t799\n",
      "\tmovimientos:\t\t23\n",
      "\n",
      "a_star\n",
      "\ttiempo total:\t\t9.40289\n",
      "\tnodos recorridos:\t1366\n",
      "\tmovimientos:\t\t23\n",
      "\n"
     ]
    }
   ],
   "source": [
    "config.mapa = \"\"\"\n",
    "########\n",
    "#      #\n",
    "# .**$@#\n",
    "#      #\n",
    "#####  #\n",
    "    ####\n",
    "\"\"\"\n",
    "config.heuristicas = [\"distancia_a_caja\"]\n",
    "\n",
    "\n",
    "global_results = {}\n",
    "for algoritmo in [\"bfs\", \"dfs\", \"greedy\", \"a_star\"]:\n",
    "    config.algoritmo = algoritmo\n",
    "    sokoban = Sokoban()\n",
    "    sokoban.parse_grid(config.mapa)\n",
    "    results = recorre_arbol(sokoban, config)\n",
    "\n",
    "    print(algoritmo)\n",
    "    print(\"\\ttiempo total:\\t\\t{:.5f}\".format(results[\"tiempo\"]))\n",
    "    print(\"\\tnodos recorridos:\\t{}\".format(len(results[\"nodos_explorados\"])))\n",
    "    print(\"\\tmovimientos:\\t\\t{}\".format(len(results[\"movimientos\"])))\n",
    "    print()\n",
    "\n",
    "    global_results[algoritmo] = results"
   ]
  },
  {
   "cell_type": "markdown",
   "metadata": {},
   "source": [
    "Un resultado interesante es que el algoritmo greedy sigue siendo mejor que a_star.\n"
   ]
  },
  {
   "cell_type": "markdown",
   "metadata": {},
   "source": [
    "Se puede graficar los diferentes nodos que fueron visitados por los algoritmos:"
   ]
  },
  {
   "cell_type": "code",
   "execution_count": 9,
   "metadata": {},
   "outputs": [
    {
     "data": {
      "image/png": "[encoded data removed]",
      "text/plain": [
       "<Figure size 1000x400 with 4 Axes>"
      ]
     },
     "metadata": {},
     "output_type": "display_data"
    }
   ],
   "source": [
    "import numpy as np\n",
    "import networkx as nx\n",
    "import matplotlib.pyplot as plt\n",
    "\n",
    "\n",
    "def get_position(results):\n",
    "    G = nx.Graph()\n",
    "    for nodo in results[\"nodos_explorados\"]:\n",
    "        child  = nodo.movements\n",
    "        parent = nodo.movements[:-1]\n",
    "        if child == parent: continue\n",
    "\n",
    "        G.add_edge(child, parent)\n",
    "\n",
    "    pos = {}\n",
    "    for node in sorted(list(G.nodes), key=lambda x: len(x)):\n",
    "        posicion = {\n",
    "            \"\": 0,\n",
    "            \"r\": 1,\n",
    "            \"l\": -2,\n",
    "            \"u\": -1,\n",
    "            \"d\": 2,\n",
    "        }\n",
    "\n",
    "        if not node:\n",
    "            pos[node] = [0, 0]\n",
    "            continue\n",
    "\n",
    "        parent = node[:-1]\n",
    "        last = node[-1] if node else \"\"\n",
    "\n",
    "        y = -len(node) - 1\n",
    "        x = pos[parent][0] + posicion.get(last) * (4 / (6 ** abs(y)))\n",
    "\n",
    "        pos[node] = [x, y]\n",
    "    return G, pos\n",
    "\n",
    "fig, ax = plt.subplots(2, 2, figsize=(10,4))\n",
    "\n",
    "\n",
    "G, pos = get_position(global_results[\"bfs\"])\n",
    "nx.draw_networkx_edges(G, pos, ax=ax[0,0], alpha=0.3)\n",
    "nx.draw_networkx_nodes(G, pos, ax=ax[0,0], node_size=1)\n",
    "ax[0,0].set_title(\"bfs\")\n",
    "\n",
    "G, pos = get_position(global_results[\"dfs\"])\n",
    "nx.draw_networkx_edges(G, pos, ax=ax[0,1], alpha=0.3)\n",
    "nx.draw_networkx_nodes(G, pos, ax=ax[0,1], node_size=1)\n",
    "ax[0,1].set_title(\"dfs\")\n",
    "\n",
    "G, pos = get_position(global_results[\"greedy\"])\n",
    "nx.draw_networkx_edges(G, pos, ax=ax[1,0], alpha=0.3)\n",
    "nx.draw_networkx_nodes(G, pos, ax=ax[1,0], node_size=1)\n",
    "ax[1,0].set_title(\"greedy\")\n",
    "\n",
    "G, pos = get_position(global_results[\"a_star\"])\n",
    "nx.draw_networkx_edges(G, pos, ax=ax[1,1], alpha=0.3)\n",
    "nx.draw_networkx_nodes(G, pos, ax=ax[1,1], node_size=1)\n",
    "ax[1,1].set_title(\"a_star\")\n",
    "\n",
    "\n",
    "plt.tight_layout()\n",
    "plt.show()"
   ]
  },
  {
   "cell_type": "markdown",
   "metadata": {},
   "source": [
    "Si bien bfs, greedy y a_star se ven similares.\n",
    "Se observa que el bfs es más denso en relación a los algoritmos gredy y a_star, principalmente en los primeros niveles.\n",
    "Del dfs se observa claramente su tendencia a ir hacía un nivel superior para encontrar la solución."
   ]
  },
  {
   "cell_type": "markdown",
   "metadata": {},
   "source": [
    "# Ejemplo 4\n",
    "Varios niveles"
   ]
  },
  {
   "cell_type": "code",
   "execution_count": 43,
   "metadata": {},
   "outputs": [
    {
     "name": "stdout",
     "output_type": "stream",
     "text": [
      "Nivel:  1\n",
      "\n",
      "\ttiempo total:\t\t\t15.06177\n",
      "\tnodos recorridos:\t\t2078\n",
      "\tmovimientos:\t\t\t23\n",
      "\tmax estimación de costo:\t23\n",
      "\n",
      "Nivel:  2\n",
      "\n",
      "\ttiempo total:\t\t\t7.50267\n",
      "\tnodos recorridos:\t\t1561\n",
      "\tmovimientos:\t\t\t56\n",
      "\tmax estimación de costo:\t56\n",
      "\n",
      "Nivel:  3\n",
      "\n",
      "\ttiempo total:\t\t\t0.81999\n",
      "\tnodos recorridos:\t\t511\n",
      "\tmovimientos:\t\t\t37\n",
      "\tmax estimación de costo:\t37\n",
      "\n",
      "Nivel:  4\n",
      "\n",
      "\ttiempo total:\t\t\t1.66862\n",
      "\tnodos recorridos:\t\t743\n",
      "\tmovimientos:\t\t\t44\n",
      "\tmax estimación de costo:\t44\n",
      "\n"
     ]
    }
   ],
   "source": [
    "niveles = [\n",
    "\"\"\"\n",
    "########\n",
    "#      #\n",
    "# .**$@#\n",
    "#      #\n",
    "#####  #\n",
    "    ####\n",
    "\"\"\",\n",
    "\"\"\"\n",
    "  ######\n",
    "  #    #\n",
    "###    #\n",
    "#   @###\n",
    "# *$.#\n",
    "###  #\n",
    "  ####\n",
    "\"\"\",\n",
    "\"\"\"\n",
    "########\n",
    "# .$@  #\n",
    "#  $ . #\n",
    "###  ###\n",
    "  #  #\n",
    "  ####\n",
    "\"\"\",\n",
    "\"\"\"\n",
    " #####\n",
    " #   #\n",
    "##   #\n",
    "# $$##\n",
    "#..@#\n",
    "#  ##\n",
    "#  #\n",
    "####\n",
    "\"\"\"\n",
    "]\n",
    "\n",
    "config = Config()\n",
    "config.heuristicas = [\"manhattan\"] \n",
    "config.algoritmo = \"bfs\"\n",
    "\n",
    "for i, nivel in enumerate(niveles):\n",
    "    config.heuristicas = heuristicas\n",
    "    config.mapa = nivel\n",
    "    \n",
    "    sokoban = Sokoban()\n",
    "    sokoban.parse_grid(config.mapa)\n",
    "    results = recorre_arbol(sokoban, config)\n",
    "\n",
    "\n",
    "    print(\"Nivel: \", i+1)\n",
    "    print()\n",
    "    print(\"\\ttiempo total:\\t\\t\\t{:.5f}\".format(results[\"tiempo\"]))\n",
    "    print(\"\\tnodos recorridos:\\t\\t{}\".format(len(results[\"nodos_explorados\"])))\n",
    "    print(\"\\tmovimientos:\\t\\t\\t{}\".format(len(results[\"movimientos\"])))\n",
    "    costo_estimado = []\n",
    "    for n in results[\"nodos_explorados\"]:\n",
    "        costo_estimado.append(n.get_actual_cost())\n",
    "    print(\"\\tmax estimación de costo:\\t{}\".format(max(costo_estimado)))\n",
    "    print()"
   ]
  }
 ],
 "metadata": {
  "kernelspec": {
   "display_name": "Python 3",
   "language": "python",
   "name": "python3"
  },
  "language_info": {
   "codemirror_mode": {
    "name": "ipython",
    "version": 3
   },
   "file_extension": ".py",
   "mimetype": "text/x-python",
   "name": "python",
   "nbconvert_exporter": "python",
   "pygments_lexer": "ipython3",
   "version": "3.12.3"
  }
 },
 "nbformat": 4,
 "nbformat_minor": 2
}
